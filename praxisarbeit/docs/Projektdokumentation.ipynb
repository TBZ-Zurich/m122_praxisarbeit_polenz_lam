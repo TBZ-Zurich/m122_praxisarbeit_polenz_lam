{
 "cells": [
  {
   "cell_type": "markdown",
   "metadata": {},
   "source": [
    "# Betriebsdokumentation\n",
    "[[_TOC_]]\n",
    "## Einführungstext  \n",
    "The main function of our scrips are the creation of users and the backup. \n",
    "\n",
    "For script one the main functions are the following:\n",
    "- input checking \n",
    "- logging\n",
    "- group validation and creation\n",
    "- user & directory creation\n",
    "- backup checking\n",
    "\n",
    "For script one the main functions are the following:\n",
    "FIXME: Lenny\n",
    "\n",
    "\n",
    "## Installationsanleitung für Administratoren\n",
    "The following section explains the installation of our script package. This includes both scripts. \n",
    "\n",
    "### Installation\n",
    "By running the two following commands you downlaod and enter the directory of the scripts. For instructions on how to use our scripts open the man page `man userwizzard`."
   ]
  },
  {
   "cell_type": "code",
   "execution_count": null,
   "metadata": {},
   "outputs": [],
   "source": [
    "git clone https://github.com/TBZ-Zurich/m122_praxisarbeit_polenz_lam.git\n",
    "\n",
    "cd m122_praxisarbeit_polenz_lam"
   ]
  },
  {
   "cell_type": "markdown",
   "metadata": {},
   "source": [
    "### Konfiguration\n",
    "\n",
    "By installing the script and entering the m122_praxisarbeit_polenz_lam directory you get all the sample configs you need to run the scipts. For simplicity we have a directory for the user creation script and one for the backup script. \n",
    "\n",
    "Those files that are consumed by both scripts are in the `etc/` directory. \n",
    "\n",
    "**users.conf.sample**\n",
    "This configuration file does containe the username, primary group, sur- and lastname. \n",
    "\n",
    "To ensure file integrity all four of these values need to be set.\n",
    "```\n",
    "loris sudo Loris Polenz\n",
    "lenny docker Lenny Lam\n",
    "nominatim postgres Nominatim User\n",
    "```\n",
    "\n",
    "**dirtemplate.conf.sample**\n",
    "This configuration is the default config that is used when no other config file for a specific group is defined. \n",
    "\n",
    "The content however always follows the same syntax as shown in the example. When executing the script with the follwing config it would create a documents folder in the home directory of our user.\n",
    "```\n",
    "/documents/git/school/projects/122\n",
    "/documents/git/school/projects/156\n",
    "/documents/git/school/math\n",
    "/documents/git/school/english\n",
    "/documents/git/school/sports\n",
    "/movies\n",
    "```\n",
    "\n",
    "There are example config files you can find it on /etc/userwizzard, the files will be downloaded once you start the script. You configurate everything in config files, that means if you want to add a new configuration you must create a config file.\n",
    "\n",
    "**backup._etc-example_.config**\n",
    "\n",
    "You can define here your directory, which should be included in the tar process. - = / (for your path). If you don't define one of these config file, all home directories will be backuped.\n",
    "\n",
    "**dontbackup._etc-example_.config**\n",
    "\n",
    "You can define here your directory, which should be excluded from the tar process. Like the backup file - = / (for your path). If you don't define one config file, no path will excluded.\n",
    "\n",
    "**backup.gexampleg.config**\n",
    "\n",
    "If you wanna backup a group you can make it like a normal backupfile but annotate it with **g**yourname**g**.\n",
    "\n",
    "**backupdata.config**\n",
    "\n",
    "Here you can define your parameter.\n",
    "\n",
    "In filename you define your prefix of your file. After that you can define in keepindays a number for how long you wanna keep a backup. At the backuplocation you can define the backuplocation. Please note to define the whole path, if it doesn't exists the system will create the location for you.\n",
    "\n",
    "```\n",
    "filename=NameOfTheFile\n",
    "keepindays=5\n",
    "backuplocation=/root/test4\n",
    "\n",
    "```\n",
    "\n",
    "\n",
    "**Setup Cronjob for regular Backups**\n",
    "\n",
    "Cronjobs are great for creating regular backups. to setup a cronjob you should have cron installed and accessable. To start with open the crontab with following command:\n",
    "\n",
    "```\n",
    "crontab –e\n",
    "```\n",
    "\n",
    "After that you can define the job for example:\n",
    "\n",
    "```\n",
    "* 2 0 * 4 /root/backup.sh\n",
    "```\n",
    "\n",
    "Please note the time format, you can learn more about cronjobs and their timeformat: https://phoenixnap.com/kb/set-up-cron-job-linux\n",
    "\n",
    "## Bediensanleitung Benutzer\n",
    "For testing the scipt we *do not* recommend running it on a production system witout testing the script first. For testing purposes we included a Dockerfile in the `testenv` folder. Enter the directory with the Dockerfile and run the following commands. They will create a local Docker Image and run it. \n",
    "The image comes equiped with `whois` preinstalled, since it is a requirement to run the user creation script. Make sure whois is already installed when running the script. "
   ]
  },
  {
   "cell_type": "code",
   "execution_count": null,
   "metadata": {},
   "outputs": [],
   "source": [
    "docker build -t userwizzard-testenv . \n",
    "\n",
    "docker run -it userwizzard-testenv"
   ]
  },
  {
   "cell_type": "code",
   "execution_count": null,
   "metadata": {},
   "outputs": [],
   "source": []
  }
 ],
 "metadata": {
  "interpreter": {
   "hash": "31f2aee4e71d21fbe5cf8b01ff0e069b9275f58929596ceb00d14d90e3e16cd6"
  },
  "kernelspec": {
   "display_name": "Python 3.8.9 64-bit",
   "language": "python",
   "name": "python3"
  },
  "language_info": {
   "codemirror_mode": {
    "name": "ipython",
    "version": 3
   },
   "file_extension": ".py",
   "mimetype": "text/x-python",
   "name": "python",
   "nbconvert_exporter": "python",
   "pygments_lexer": "ipython3",
   "version": "3.9.10"
  },
  "orig_nbformat": 4
 },
 "nbformat": 4,
 "nbformat_minor": 2
}
