{
 "cells": [
  {
   "cell_type": "markdown",
   "metadata": {},
   "source": [
    "# Projekt Dokumentation\n",
    "\n",
    "[[_TOC_]]\n",
    "\n",
    "## Lösungsdesign\n",
    "Anhand der Analyse wurde folgendes Lösungsdesign entworfen.\n",
    "\n",
    "### Aufruf der Skripte\n",
    "\n",
    "Unsere beiden Scripte werden über zwei verschiedene Wege aufgerufen.\n",
    "\n",
    "TODO: schreiben sie wie die Skripte aufgerufen werden sollen (d.h. welche Parameter werden übergeben, gibt es Interaktionen mit dem Skript, läuft es automatisch täglich ab?)\n",
    "\n",
    "### Ablauf der Automation\n",
    "![ActivityDiagram](./assets/ActivityDiagram.png \"Activity Diagram\")\n",
    "\n",
    "### Konfigurationsdateien\n",
    "\n",
    "TODO: Definieren sie welche Parameter in welchen Konfigurationsdateien gespeichert werden.\n",
    "\n",
    "## Abgrenzungen zum Lösungsdesign\n",
    "\n",
    "TODO: Nachdem das Programm verwirklicht wurde, hier die Unterschiede von der Implementation zum Lösungsdesign beschreiben (was wurde anders gemacht, was wurde nicht gemacht, was wurde zusaetzlich gemacht)"
   ]
  },
  {
   "cell_type": "markdown",
   "metadata": {},
   "source": []
  },
  {
   "cell_type": "code",
   "execution_count": 4,
   "metadata": {},
   "outputs": [
    {
     "name": "stdout",
     "output_type": "stream",
     "text": [
      "Hello world!\n"
     ]
    }
   ],
   "source": [
    "%%sh\n",
    "#! /bin/bash\n",
    "\n",
    "echo \"Hello world!\""
   ]
  },
  {
   "cell_type": "code",
   "execution_count": null,
   "metadata": {},
   "outputs": [],
   "source": []
  }
 ],
 "metadata": {
  "interpreter": {
   "hash": "31f2aee4e71d21fbe5cf8b01ff0e069b9275f58929596ceb00d14d90e3e16cd6"
  },
  "kernelspec": {
   "display_name": "Python 3.8.9 64-bit",
   "language": "python",
   "name": "python3"
  },
  "language_info": {
   "codemirror_mode": {
    "name": "ipython",
    "version": 3
   },
   "file_extension": ".py",
   "mimetype": "text/x-python",
   "name": "python",
   "nbconvert_exporter": "python",
   "pygments_lexer": "ipython3",
   "version": "3.9.10"
  },
  "orig_nbformat": 4
 },
 "nbformat": 4,
 "nbformat_minor": 2
}
